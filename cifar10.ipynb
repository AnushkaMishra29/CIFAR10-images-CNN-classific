{
  "nbformat": 4,
  "nbformat_minor": 0,
  "metadata": {
    "colab": {
      "name": "cifar10.ipynb",
      "provenance": [],
      "authorship_tag": "ABX9TyM2vITkiNoMQEVQMmSfl/VC",
      "include_colab_link": true
    },
    "kernelspec": {
      "name": "python3",
      "display_name": "Python 3"
    },
    "accelerator": "GPU"
  },
  "cells": [
    {
      "cell_type": "markdown",
      "metadata": {
        "id": "view-in-github",
        "colab_type": "text"
      },
      "source": [
        "<a href=\"https://colab.research.google.com/github/AnushkaMishra29/CIFAR10-images-CNN-classific/blob/master/cifar10.ipynb\" target=\"_parent\"><img src=\"https://colab.research.google.com/assets/colab-badge.svg\" alt=\"Open In Colab\"/></a>"
      ]
    },
    {
      "cell_type": "code",
      "metadata": {
        "id": "bsw-0cgknrl7",
        "colab_type": "code",
        "colab": {
          "base_uri": "https://localhost:8080/",
          "height": 35
        },
        "outputId": "67d8864d-0515-4a47-bffe-8006d85688cb"
      },
      "source": [
        "import keras"
      ],
      "execution_count": 1,
      "outputs": [
        {
          "output_type": "stream",
          "text": [
            "Using TensorFlow backend.\n"
          ],
          "name": "stderr"
        }
      ]
    },
    {
      "cell_type": "code",
      "metadata": {
        "id": "PQB9NKFYoANt",
        "colab_type": "code",
        "colab": {
          "base_uri": "https://localhost:8080/",
          "height": 52
        },
        "outputId": "6d4b6013-cb2a-43e4-973e-23fe48c9f3e0"
      },
      "source": [
        "from keras.datasets import cifar10\n",
        "(x_train,y_train),(x_test,y_test) = cifar10.load_data() "
      ],
      "execution_count": 3,
      "outputs": [
        {
          "output_type": "stream",
          "text": [
            "Downloading data from https://www.cs.toronto.edu/~kriz/cifar-10-python.tar.gz\n",
            "170500096/170498071 [==============================] - 6s 0us/step\n"
          ],
          "name": "stdout"
        }
      ]
    },
    {
      "cell_type": "code",
      "metadata": {
        "id": "7ni7f-LDpAy3",
        "colab_type": "code",
        "colab": {
          "base_uri": "https://localhost:8080/",
          "height": 35
        },
        "outputId": "00c31827-2ca8-46a5-d2ee-17ed0676f002"
      },
      "source": [
        "x_train.shape"
      ],
      "execution_count": 6,
      "outputs": [
        {
          "output_type": "execute_result",
          "data": {
            "text/plain": [
              "(50000, 32, 32, 3)"
            ]
          },
          "metadata": {
            "tags": []
          },
          "execution_count": 6
        }
      ]
    },
    {
      "cell_type": "code",
      "metadata": {
        "id": "bJHsWi5Vpk8X",
        "colab_type": "code",
        "colab": {
          "base_uri": "https://localhost:8080/",
          "height": 35
        },
        "outputId": "17748816-4d9f-4e38-881b-f8b61278d20b"
      },
      "source": [
        "x_test.shape"
      ],
      "execution_count": 7,
      "outputs": [
        {
          "output_type": "execute_result",
          "data": {
            "text/plain": [
              "(10000, 32, 32, 3)"
            ]
          },
          "metadata": {
            "tags": []
          },
          "execution_count": 7
        }
      ]
    },
    {
      "cell_type": "code",
      "metadata": {
        "id": "w8Q8DxGdpyNL",
        "colab_type": "code",
        "colab": {
          "base_uri": "https://localhost:8080/",
          "height": 35
        },
        "outputId": "4ce7b582-b4fb-425e-b275-4f45349030f1"
      },
      "source": [
        "y_train.shape"
      ],
      "execution_count": 11,
      "outputs": [
        {
          "output_type": "execute_result",
          "data": {
            "text/plain": [
              "(50000, 1)"
            ]
          },
          "metadata": {
            "tags": []
          },
          "execution_count": 11
        }
      ]
    },
    {
      "cell_type": "code",
      "metadata": {
        "id": "OG5ZF60zp2Kk",
        "colab_type": "code",
        "colab": {
          "base_uri": "https://localhost:8080/",
          "height": 35
        },
        "outputId": "d99bc81e-c47f-498d-b713-42827eb6615a"
      },
      "source": [
        "y_test.shape"
      ],
      "execution_count": 9,
      "outputs": [
        {
          "output_type": "execute_result",
          "data": {
            "text/plain": [
              "(10000, 1)"
            ]
          },
          "metadata": {
            "tags": []
          },
          "execution_count": 9
        }
      ]
    },
    {
      "cell_type": "code",
      "metadata": {
        "id": "jedE2nzLp54S",
        "colab_type": "code",
        "colab": {
          "base_uri": "https://localhost:8080/",
          "height": 266
        },
        "outputId": "8ec5f875-c5e0-4d94-ef77-7cef05465e52"
      },
      "source": [
        "import matplotlib.pyplot as plt         #The %matplotlib inline tells the notebook that you wish for the image to display within the image.\n",
        "# plt.imshow is a function that displays the numbered pixel values in x_train[0]to the actual image it represents.\n",
        "%matplotlib inline\n",
        "img = plt.imshow(x_train[6845])"
      ],
      "execution_count": 25,
      "outputs": [
        {
          "output_type": "display_data",
          "data": {
            "image/png": "[encoded data removed]",
            "text/plain": [
              "<Figure size 432x288 with 1 Axes>"
            ]
          },
          "metadata": {
            "tags": [],
            "needs_background": "light"
          }
        }
      ]
    },
    {
      "cell_type": "code",
      "metadata": {
        "id": "VMh6pgcdqw9Z",
        "colab_type": "code",
        "colab": {
          "base_uri": "https://localhost:8080/",
          "height": 35
        },
        "outputId": "e6e3eab1-36fa-4aa1-f159-3a7e194811c1"
      },
      "source": [
        "y_train[6845] #shows us what image we are seeing. 0-airplane,1-car,2-bird,3-cat,4-deer\n",
        "#5-dog,6-frog,7-horse,8-ship,9-truck"
      ],
      "execution_count": 27,
      "outputs": [
        {
          "output_type": "execute_result",
          "data": {
            "text/plain": [
              "array([9], dtype=uint8)"
            ]
          },
          "metadata": {
            "tags": []
          },
          "execution_count": 27
        }
      ]
    },
    {
      "cell_type": "markdown",
      "metadata": {
        "id": "Q_63vmTwttqV",
        "colab_type": "text"
      },
      "source": [
        "**i.e a truck.so we are done with exploring datasets. now what we want is to learn out machine to label data from 0 to 9, since it is not a binary classification therefore we will use one hot encoding on y-train and y_test to convert it intoone hot encoding. **"
      ]
    },
    {
      "cell_type": "code",
      "metadata": {
        "id": "IYfUJqPmrjyg",
        "colab_type": "code",
        "colab": {}
      },
      "source": [
        "y_train_one_hot=keras.utils.to_categorical(y_train,10)  #we have used 10 to show how many classes are there\n",
        "y_test_to_one_hot=keras.utils.to_categorical(y_test,10)"
      ],
      "execution_count": 28,
      "outputs": []
    },
    {
      "cell_type": "code",
      "metadata": {
        "id": "jgUW2K9YzQ9X",
        "colab_type": "code",
        "colab": {
          "base_uri": "https://localhost:8080/",
          "height": 35
        },
        "outputId": "0d641235-009f-427b-c12f-df1b00467125"
      },
      "source": [
        "y_train_one_hot[6845]"
      ],
      "execution_count": 29,
      "outputs": [
        {
          "output_type": "execute_result",
          "data": {
            "text/plain": [
              "array([0., 0., 0., 0., 0., 0., 0., 0., 0., 1.], dtype=float32)"
            ]
          },
          "metadata": {
            "tags": []
          },
          "execution_count": 29
        }
      ]
    },
    {
      "cell_type": "markdown",
      "metadata": {
        "id": "a9buOTVDzhvR",
        "colab_type": "text"
      },
      "source": [
        "i.e the truck had 9th label and after one hot encoding is converted into this.\n",
        "therefore this was the processing of our labels(y), we also process our images(x) by simply normalizing the images."
      ]
    },
    {
      "cell_type": "code",
      "metadata": {
        "id": "-M650mrLsuGq",
        "colab_type": "code",
        "colab": {}
      },
      "source": [
        "x_train = x_train / 255\n",
        "x_test = x_test / 255"
      ],
      "execution_count": 30,
      "outputs": []
    },
    {
      "cell_type": "code",
      "metadata": {
        "id": "1ahcDuyj0CCo",
        "colab_type": "code",
        "colab": {
          "base_uri": "https://localhost:8080/",
          "height": 867
        },
        "outputId": "f6a8a6e7-a461-4ecd-c301-4ee1c81e1bb9"
      },
      "source": [
        "x_train[0]"
      ],
      "execution_count": 31,
      "outputs": [
        {
          "output_type": "execute_result",
          "data": {
            "text/plain": [
              "array([[[0.23137255, 0.24313725, 0.24705882],\n",
              "        [0.16862745, 0.18039216, 0.17647059],\n",
              "        [0.19607843, 0.18823529, 0.16862745],\n",
              "        ...,\n",
              "        [0.61960784, 0.51764706, 0.42352941],\n",
              "        [0.59607843, 0.49019608, 0.4       ],\n",
              "        [0.58039216, 0.48627451, 0.40392157]],\n",
              "\n",
              "       [[0.0627451 , 0.07843137, 0.07843137],\n",
              "        [0.        , 0.        , 0.        ],\n",
              "        [0.07058824, 0.03137255, 0.        ],\n",
              "        ...,\n",
              "        [0.48235294, 0.34509804, 0.21568627],\n",
              "        [0.46666667, 0.3254902 , 0.19607843],\n",
              "        [0.47843137, 0.34117647, 0.22352941]],\n",
              "\n",
              "       [[0.09803922, 0.09411765, 0.08235294],\n",
              "        [0.0627451 , 0.02745098, 0.        ],\n",
              "        [0.19215686, 0.10588235, 0.03137255],\n",
              "        ...,\n",
              "        [0.4627451 , 0.32941176, 0.19607843],\n",
              "        [0.47058824, 0.32941176, 0.19607843],\n",
              "        [0.42745098, 0.28627451, 0.16470588]],\n",
              "\n",
              "       ...,\n",
              "\n",
              "       [[0.81568627, 0.66666667, 0.37647059],\n",
              "        [0.78823529, 0.6       , 0.13333333],\n",
              "        [0.77647059, 0.63137255, 0.10196078],\n",
              "        ...,\n",
              "        [0.62745098, 0.52156863, 0.2745098 ],\n",
              "        [0.21960784, 0.12156863, 0.02745098],\n",
              "        [0.20784314, 0.13333333, 0.07843137]],\n",
              "\n",
              "       [[0.70588235, 0.54509804, 0.37647059],\n",
              "        [0.67843137, 0.48235294, 0.16470588],\n",
              "        [0.72941176, 0.56470588, 0.11764706],\n",
              "        ...,\n",
              "        [0.72156863, 0.58039216, 0.36862745],\n",
              "        [0.38039216, 0.24313725, 0.13333333],\n",
              "        [0.3254902 , 0.20784314, 0.13333333]],\n",
              "\n",
              "       [[0.69411765, 0.56470588, 0.45490196],\n",
              "        [0.65882353, 0.50588235, 0.36862745],\n",
              "        [0.70196078, 0.55686275, 0.34117647],\n",
              "        ...,\n",
              "        [0.84705882, 0.72156863, 0.54901961],\n",
              "        [0.59215686, 0.4627451 , 0.32941176],\n",
              "        [0.48235294, 0.36078431, 0.28235294]]])"
            ]
          },
          "metadata": {
            "tags": []
          },
          "execution_count": 31
        }
      ]
    },
    {
      "cell_type": "markdown",
      "metadata": {
        "id": "eY2dmFzw0OBY",
        "colab_type": "text"
      },
      "source": [
        "therefore we have scaled our data between 0 and 1.\n"
      ]
    },
    {
      "cell_type": "code",
      "metadata": {
        "id": "m4PD1VqU0H19",
        "colab_type": "code",
        "colab": {}
      },
      "source": [
        "from keras.models import Sequential\n",
        "from keras.layers import Dense, Dropout, Flatten, Conv2D, MaxPooling2D"
      ],
      "execution_count": 32,
      "outputs": []
    },
    {
      "cell_type": "code",
      "metadata": {
        "id": "OACluhkS0UP6",
        "colab_type": "code",
        "colab": {}
      },
      "source": [
        "model = Sequential()"
      ],
      "execution_count": 33,
      "outputs": []
    },
    {
      "cell_type": "code",
      "metadata": {
        "id": "wrQFZdJT0WLb",
        "colab_type": "code",
        "colab": {}
      },
      "source": [
        "model.add(Conv2D(32, (3, 3), activation='relu', padding='same', input_shape=(32,32,3)))\n",
        "model.add(Conv2D(32, (3, 3), activation='relu', padding='same'))\n",
        "model.add(MaxPooling2D(pool_size=(2, 2)))\n",
        "model.add(Dropout(0.25))\n",
        "model.add(Conv2D(64, (3, 3), activation='relu', padding='same'))\n",
        "model.add(Conv2D(64, (3, 3), activation='relu', padding='same'))\n",
        "model.add(MaxPooling2D(pool_size=(2, 2)))\n",
        "model.add(Dropout(0.25))"
      ],
      "execution_count": 35,
      "outputs": []
    },
    {
      "cell_type": "code",
      "metadata": {
        "id": "BJomlt862qAz",
        "colab_type": "code",
        "colab": {}
      },
      "source": [
        "model.add(Flatten())\n",
        "model.add(Dense(512, activation='relu'))\n",
        "model.add(Dropout(0.5))"
      ],
      "execution_count": 36,
      "outputs": []
    },
    {
      "cell_type": "code",
      "metadata": {
        "id": "rEZ6Xvrm27f4",
        "colab_type": "code",
        "colab": {}
      },
      "source": [
        "model.add(Dense(10, activation='softmax'))"
      ],
      "execution_count": 37,
      "outputs": []
    },
    {
      "cell_type": "code",
      "metadata": {
        "id": "rYw79al629JC",
        "colab_type": "code",
        "colab": {
          "base_uri": "https://localhost:8080/",
          "height": 676
        },
        "outputId": "9e8857ce-e060-4ea0-fbfe-541b538ba57e"
      },
      "source": [
        "model.summary()"
      ],
      "execution_count": 38,
      "outputs": [
        {
          "output_type": "stream",
          "text": [
            "Model: \"sequential_1\"\n",
            "_________________________________________________________________\n",
            "Layer (type)                 Output Shape              Param #   \n",
            "=================================================================\n",
            "conv2d_1 (Conv2D)            (None, 32, 32, 32)        896       \n",
            "_________________________________________________________________\n",
            "conv2d_2 (Conv2D)            (None, 32, 32, 32)        9248      \n",
            "_________________________________________________________________\n",
            "max_pooling2d_1 (MaxPooling2 (None, 16, 16, 32)        0         \n",
            "_________________________________________________________________\n",
            "conv2d_3 (Conv2D)            (None, 16, 16, 32)        9248      \n",
            "_________________________________________________________________\n",
            "conv2d_4 (Conv2D)            (None, 16, 16, 32)        9248      \n",
            "_________________________________________________________________\n",
            "max_pooling2d_2 (MaxPooling2 (None, 8, 8, 32)          0         \n",
            "_________________________________________________________________\n",
            "dropout_1 (Dropout)          (None, 8, 8, 32)          0         \n",
            "_________________________________________________________________\n",
            "conv2d_5 (Conv2D)            (None, 8, 8, 64)          18496     \n",
            "_________________________________________________________________\n",
            "conv2d_6 (Conv2D)            (None, 8, 8, 64)          36928     \n",
            "_________________________________________________________________\n",
            "max_pooling2d_3 (MaxPooling2 (None, 4, 4, 64)          0         \n",
            "_________________________________________________________________\n",
            "dropout_2 (Dropout)          (None, 4, 4, 64)          0         \n",
            "_________________________________________________________________\n",
            "flatten_1 (Flatten)          (None, 1024)              0         \n",
            "_________________________________________________________________\n",
            "dense_1 (Dense)              (None, 512)               524800    \n",
            "_________________________________________________________________\n",
            "dropout_3 (Dropout)          (None, 512)               0         \n",
            "_________________________________________________________________\n",
            "dense_2 (Dense)              (None, 10)                5130      \n",
            "=================================================================\n",
            "Total params: 613,994\n",
            "Trainable params: 613,994\n",
            "Non-trainable params: 0\n",
            "_________________________________________________________________\n"
          ],
          "name": "stdout"
        }
      ]
    },
    {
      "cell_type": "code",
      "metadata": {
        "id": "LXCtSvzf2_gM",
        "colab_type": "code",
        "colab": {}
      },
      "source": [
        "model.compile(loss='categorical_crossentropy',\n",
        "              optimizer='adam',\n",
        "              metrics=['accuracy'])"
      ],
      "execution_count": 39,
      "outputs": []
    },
    {
      "cell_type": "code",
      "metadata": {
        "id": "bn0FHSiK3QBK",
        "colab_type": "code",
        "colab": {
          "base_uri": "https://localhost:8080/",
          "height": 1000
        },
        "outputId": "44dde4ad-bc56-45eb-ecf9-2818dc1c3718"
      },
      "source": [
        "hist = model.fit(x_train, y_train_one_hot, \n",
        "           batch_size=32, epochs=60, \n",
        "           validation_split=0.2)      # we use validation_split intead of validation_data\n",
        "#this is because we want to split our dataset into training and test set nad by usind validation_split we have appled 20% of our dataset to test set "
      ],
      "execution_count": 46,
      "outputs": [
        {
          "output_type": "stream",
          "text": [
            "Train on 40000 samples, validate on 10000 samples\n",
            "Epoch 1/60\n",
            "40000/40000 [==============================] - 18s 447us/step - loss: 0.5414 - accuracy: 0.8120 - val_loss: 0.6778 - val_accuracy: 0.7708\n",
            "Epoch 2/60\n",
            "40000/40000 [==============================] - 17s 429us/step - loss: 0.5447 - accuracy: 0.8119 - val_loss: 0.6551 - val_accuracy: 0.7789\n",
            "Epoch 3/60\n",
            "40000/40000 [==============================] - 17s 430us/step - loss: 0.5413 - accuracy: 0.8080 - val_loss: 0.6543 - val_accuracy: 0.7826\n",
            "Epoch 4/60\n",
            "40000/40000 [==============================] - 18s 442us/step - loss: 0.5503 - accuracy: 0.8093 - val_loss: 0.6459 - val_accuracy: 0.7794\n",
            "Epoch 5/60\n",
            "40000/40000 [==============================] - 17s 431us/step - loss: 0.5313 - accuracy: 0.8136 - val_loss: 0.6734 - val_accuracy: 0.7804\n",
            "Epoch 6/60\n",
            "40000/40000 [==============================] - 17s 427us/step - loss: 0.5294 - accuracy: 0.8170 - val_loss: 0.6582 - val_accuracy: 0.7809\n",
            "Epoch 7/60\n",
            "40000/40000 [==============================] - 17s 426us/step - loss: 0.5392 - accuracy: 0.8116 - val_loss: 0.6833 - val_accuracy: 0.7758\n",
            "Epoch 8/60\n",
            "40000/40000 [==============================] - 17s 424us/step - loss: 0.5307 - accuracy: 0.8133 - val_loss: 0.6503 - val_accuracy: 0.7849\n",
            "Epoch 9/60\n",
            "40000/40000 [==============================] - 17s 423us/step - loss: 0.5328 - accuracy: 0.8130 - val_loss: 0.6722 - val_accuracy: 0.7792\n",
            "Epoch 10/60\n",
            "40000/40000 [==============================] - 17s 419us/step - loss: 0.5357 - accuracy: 0.8121 - val_loss: 0.6513 - val_accuracy: 0.7820\n",
            "Epoch 11/60\n",
            "40000/40000 [==============================] - 17s 418us/step - loss: 0.5220 - accuracy: 0.8167 - val_loss: 0.6521 - val_accuracy: 0.7831\n",
            "Epoch 12/60\n",
            "40000/40000 [==============================] - 17s 420us/step - loss: 0.5220 - accuracy: 0.8172 - val_loss: 0.6465 - val_accuracy: 0.7834\n",
            "Epoch 13/60\n",
            "40000/40000 [==============================] - 17s 418us/step - loss: 0.5228 - accuracy: 0.8194 - val_loss: 0.6304 - val_accuracy: 0.7883\n",
            "Epoch 14/60\n",
            "40000/40000 [==============================] - 17s 420us/step - loss: 0.5203 - accuracy: 0.8199 - val_loss: 0.6641 - val_accuracy: 0.7837\n",
            "Epoch 15/60\n",
            "40000/40000 [==============================] - 17s 419us/step - loss: 0.5196 - accuracy: 0.8188 - val_loss: 0.6558 - val_accuracy: 0.7813\n",
            "Epoch 16/60\n",
            "40000/40000 [==============================] - 17s 419us/step - loss: 0.5254 - accuracy: 0.8202 - val_loss: 0.6578 - val_accuracy: 0.7823\n",
            "Epoch 17/60\n",
            "40000/40000 [==============================] - 17s 421us/step - loss: 0.5152 - accuracy: 0.8205 - val_loss: 0.6495 - val_accuracy: 0.7839\n",
            "Epoch 18/60\n",
            "40000/40000 [==============================] - 16s 412us/step - loss: 0.5233 - accuracy: 0.8174 - val_loss: 0.6609 - val_accuracy: 0.7862\n",
            "Epoch 19/60\n",
            "40000/40000 [==============================] - 17s 414us/step - loss: 0.5198 - accuracy: 0.8180 - val_loss: 0.6609 - val_accuracy: 0.7781\n",
            "Epoch 20/60\n",
            "40000/40000 [==============================] - 16s 412us/step - loss: 0.5066 - accuracy: 0.8235 - val_loss: 0.6637 - val_accuracy: 0.7834\n",
            "Epoch 21/60\n",
            "40000/40000 [==============================] - 16s 412us/step - loss: 0.5145 - accuracy: 0.8214 - val_loss: 0.6688 - val_accuracy: 0.7888\n",
            "Epoch 22/60\n",
            "40000/40000 [==============================] - 17s 413us/step - loss: 0.5135 - accuracy: 0.8206 - val_loss: 0.6489 - val_accuracy: 0.7848\n",
            "Epoch 23/60\n",
            "40000/40000 [==============================] - 18s 441us/step - loss: 0.5086 - accuracy: 0.8250 - val_loss: 0.6613 - val_accuracy: 0.7820\n",
            "Epoch 24/60\n",
            "40000/40000 [==============================] - 17s 420us/step - loss: 0.5166 - accuracy: 0.8207 - val_loss: 0.6442 - val_accuracy: 0.7844\n",
            "Epoch 25/60\n",
            "40000/40000 [==============================] - 17s 418us/step - loss: 0.5104 - accuracy: 0.8218 - val_loss: 0.6553 - val_accuracy: 0.7882\n",
            "Epoch 26/60\n",
            "40000/40000 [==============================] - 17s 420us/step - loss: 0.5104 - accuracy: 0.8246 - val_loss: 0.6785 - val_accuracy: 0.7863\n",
            "Epoch 27/60\n",
            "40000/40000 [==============================] - 17s 418us/step - loss: 0.5079 - accuracy: 0.8266 - val_loss: 0.6780 - val_accuracy: 0.7864\n",
            "Epoch 28/60\n",
            "40000/40000 [==============================] - 16s 412us/step - loss: 0.5040 - accuracy: 0.8251 - val_loss: 0.6609 - val_accuracy: 0.7883\n",
            "Epoch 29/60\n",
            "40000/40000 [==============================] - 16s 412us/step - loss: 0.5100 - accuracy: 0.8226 - val_loss: 0.6819 - val_accuracy: 0.7859\n",
            "Epoch 30/60\n",
            "40000/40000 [==============================] - 16s 412us/step - loss: 0.4999 - accuracy: 0.8251 - val_loss: 0.6569 - val_accuracy: 0.7857\n",
            "Epoch 31/60\n",
            "40000/40000 [==============================] - 16s 412us/step - loss: 0.5143 - accuracy: 0.8218 - val_loss: 0.6954 - val_accuracy: 0.7719\n",
            "Epoch 32/60\n",
            "40000/40000 [==============================] - 17s 413us/step - loss: 0.5003 - accuracy: 0.8281 - val_loss: 0.6427 - val_accuracy: 0.7930\n",
            "Epoch 33/60\n",
            "40000/40000 [==============================] - 17s 413us/step - loss: 0.5008 - accuracy: 0.8259 - val_loss: 0.6718 - val_accuracy: 0.7859\n",
            "Epoch 34/60\n",
            "40000/40000 [==============================] - 17s 414us/step - loss: 0.4965 - accuracy: 0.8263 - val_loss: 0.6824 - val_accuracy: 0.7801\n",
            "Epoch 35/60\n",
            "40000/40000 [==============================] - 17s 423us/step - loss: 0.4944 - accuracy: 0.8282 - val_loss: 0.6760 - val_accuracy: 0.7812\n",
            "Epoch 36/60\n",
            "40000/40000 [==============================] - 17s 413us/step - loss: 0.5090 - accuracy: 0.8220 - val_loss: 0.6488 - val_accuracy: 0.7889\n",
            "Epoch 37/60\n",
            "40000/40000 [==============================] - 16s 412us/step - loss: 0.5054 - accuracy: 0.8262 - val_loss: 0.6687 - val_accuracy: 0.7831\n",
            "Epoch 38/60\n",
            "40000/40000 [==============================] - 16s 411us/step - loss: 0.4952 - accuracy: 0.8287 - val_loss: 0.6582 - val_accuracy: 0.7878\n",
            "Epoch 39/60\n",
            "40000/40000 [==============================] - 16s 411us/step - loss: 0.4965 - accuracy: 0.8278 - val_loss: 0.6563 - val_accuracy: 0.7946\n",
            "Epoch 40/60\n",
            "40000/40000 [==============================] - 16s 412us/step - loss: 0.5049 - accuracy: 0.8259 - val_loss: 0.6857 - val_accuracy: 0.7815\n",
            "Epoch 41/60\n",
            "40000/40000 [==============================] - 17s 423us/step - loss: 0.4885 - accuracy: 0.8303 - val_loss: 0.6734 - val_accuracy: 0.7907\n",
            "Epoch 42/60\n",
            "40000/40000 [==============================] - 18s 438us/step - loss: 0.4927 - accuracy: 0.8303 - val_loss: 0.6735 - val_accuracy: 0.7864\n",
            "Epoch 43/60\n",
            "40000/40000 [==============================] - 17s 427us/step - loss: 0.5000 - accuracy: 0.8234 - val_loss: 0.6741 - val_accuracy: 0.7877\n",
            "Epoch 44/60\n",
            "40000/40000 [==============================] - 17s 428us/step - loss: 0.4874 - accuracy: 0.8342 - val_loss: 0.6959 - val_accuracy: 0.7850\n",
            "Epoch 45/60\n",
            "40000/40000 [==============================] - 17s 426us/step - loss: 0.4937 - accuracy: 0.8292 - val_loss: 0.6637 - val_accuracy: 0.7904\n",
            "Epoch 46/60\n",
            "40000/40000 [==============================] - 17s 426us/step - loss: 0.4852 - accuracy: 0.8315 - val_loss: 0.6978 - val_accuracy: 0.7805\n",
            "Epoch 47/60\n",
            "40000/40000 [==============================] - 17s 425us/step - loss: 0.4896 - accuracy: 0.8311 - val_loss: 0.6825 - val_accuracy: 0.7894\n",
            "Epoch 48/60\n",
            "40000/40000 [==============================] - 17s 418us/step - loss: 0.4871 - accuracy: 0.8308 - val_loss: 0.6793 - val_accuracy: 0.7816\n",
            "Epoch 49/60\n",
            "40000/40000 [==============================] - 17s 418us/step - loss: 0.4888 - accuracy: 0.8300 - val_loss: 0.6533 - val_accuracy: 0.7892\n",
            "Epoch 50/60\n",
            "40000/40000 [==============================] - 17s 418us/step - loss: 0.4778 - accuracy: 0.8351 - val_loss: 0.6690 - val_accuracy: 0.7898\n",
            "Epoch 51/60\n",
            "40000/40000 [==============================] - 17s 418us/step - loss: 0.4889 - accuracy: 0.8354 - val_loss: 0.6749 - val_accuracy: 0.7866\n",
            "Epoch 52/60\n",
            "40000/40000 [==============================] - 16s 412us/step - loss: 0.4941 - accuracy: 0.8293 - val_loss: 0.6507 - val_accuracy: 0.7888\n",
            "Epoch 53/60\n",
            "40000/40000 [==============================] - 17s 421us/step - loss: 0.4954 - accuracy: 0.8310 - val_loss: 0.6487 - val_accuracy: 0.7901\n",
            "Epoch 54/60\n",
            "40000/40000 [==============================] - 17s 413us/step - loss: 0.4803 - accuracy: 0.8347 - val_loss: 0.6685 - val_accuracy: 0.7910\n",
            "Epoch 55/60\n",
            "40000/40000 [==============================] - 16s 412us/step - loss: 0.4832 - accuracy: 0.8326 - val_loss: 0.6747 - val_accuracy: 0.7800\n",
            "Epoch 56/60\n",
            "40000/40000 [==============================] - 17s 413us/step - loss: 0.4916 - accuracy: 0.8303 - val_loss: 0.6963 - val_accuracy: 0.7815\n",
            "Epoch 57/60\n",
            "40000/40000 [==============================] - 17s 413us/step - loss: 0.4790 - accuracy: 0.8340 - val_loss: 0.6710 - val_accuracy: 0.7827\n",
            "Epoch 58/60\n",
            "40000/40000 [==============================] - 17s 414us/step - loss: 0.4874 - accuracy: 0.8324 - val_loss: 0.6698 - val_accuracy: 0.7871\n",
            "Epoch 59/60\n",
            "40000/40000 [==============================] - 16s 412us/step - loss: 0.4824 - accuracy: 0.8338 - val_loss: 0.6822 - val_accuracy: 0.7809\n",
            "Epoch 60/60\n",
            "40000/40000 [==============================] - 17s 437us/step - loss: 0.4734 - accuracy: 0.8346 - val_loss: 0.6752 - val_accuracy: 0.7864\n"
          ],
          "name": "stdout"
        }
      ]
    },
    {
      "cell_type": "markdown",
      "metadata": {
        "id": "biLC5v356At_",
        "colab_type": "text"
      },
      "source": [
        "visualising loss with epochs on train set and validation set.\n",
        "our train set as 40k examples and validation set has 10k"
      ]
    },
    {
      "cell_type": "code",
      "metadata": {
        "id": "eolHqIZG3a8j",
        "colab_type": "code",
        "colab": {
          "base_uri": "https://localhost:8080/",
          "height": 295
        },
        "outputId": "7e1ae275-cdfd-47dc-973b-9f63f23deb42"
      },
      "source": [
        "plt.plot(hist.history['loss'])\n",
        "plt.plot(hist.history['val_loss'])\n",
        "plt.title('Model loss')\n",
        "plt.ylabel('Loss')\n",
        "plt.xlabel('Epoch')\n",
        "plt.legend(['Train', 'Val'], loc='upper right')\n",
        "plt.show()"
      ],
      "execution_count": 47,
      "outputs": [
        {
          "output_type": "display_data",
          "data": {
            "image/png": "[encoded data removed]",
            "text/plain": [
              "<Figure size 432x288 with 1 Axes>"
            ]
          },
          "metadata": {
            "tags": [],
            "needs_background": "light"
          }
        }
      ]
    },
    {
      "cell_type": "markdown",
      "metadata": {
        "id": "R0y4-4mD6GuO",
        "colab_type": "text"
      },
      "source": [
        "visualising accuracy with epochs on train set and train set"
      ]
    },
    {
      "cell_type": "code",
      "metadata": {
        "id": "eVbuFCZt5_Oy",
        "colab_type": "code",
        "colab": {
          "base_uri": "https://localhost:8080/",
          "height": 295
        },
        "outputId": "be5168b5-0fdf-4ce3-877f-d351af5d351b"
      },
      "source": [
        "plt.plot(hist.history['accuracy'])\n",
        "plt.plot(hist.history['val_accuracy'])\n",
        "plt.title('Model accuracy')\n",
        "plt.ylabel('Accuracy')\n",
        "plt.xlabel('Epoch')\n",
        "plt.legend(['Train', 'Val'], loc='lower right')\n",
        "plt.show()"
      ],
      "execution_count": 48,
      "outputs": [
        {
          "output_type": "display_data",
          "data": {
            "image/png": "[encoded data removed]",
            "text/plain": [
              "<Figure size 432x288 with 1 Axes>"
            ]
          },
          "metadata": {
            "tags": [],
            "needs_background": "light"
          }
        }
      ]
    },
    {
      "cell_type": "markdown",
      "metadata": {
        "id": "s2zLgCp87vGu",
        "colab_type": "text"
      },
      "source": [
        "testing our network on any image."
      ]
    },
    {
      "cell_type": "code",
      "metadata": {
        "id": "i12ep6Iq7-ET",
        "colab_type": "code",
        "colab": {
          "resources": {
            "http://localhost:8080/nbextensions/google.colab/files.js": {
              "data": "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",
              "ok": true,
              "headers": [
                [
                  "content-type",
                  "application/javascript"
                ]
              ],
              "status": 200,
              "status_text": ""
            }
          },
          "base_uri": "https://localhost:8080/",
          "height": 73
        },
        "outputId": "fa808e68-6351-46f9-d9fb-4ceaf2665a0a"
      },
      "source": [
        "from google.colab import files\n",
        "uploaded = files.upload()"
      ],
      "execution_count": 61,
      "outputs": [
        {
          "output_type": "display_data",
          "data": {
            "text/html": [
              "\n",
              "     <input type=\"file\" id=\"files-e258bebf-9b4f-4a0a-854f-0e988aca22d9\" name=\"files[]\" multiple disabled\n",
              "        style=\"border:none\" />\n",
              "     <output id=\"result-e258bebf-9b4f-4a0a-854f-0e988aca22d9\">\n",
              "      Upload widget is only available when the cell has been executed in the\n",
              "      current browser session. Please rerun this cell to enable.\n",
              "      </output>\n",
              "      <script src=\"/nbextensions/google.colab/files.js\"></script> "
            ],
            "text/plain": [
              "<IPython.core.display.HTML object>"
            ]
          },
          "metadata": {
            "tags": []
          }
        },
        {
          "output_type": "stream",
          "text": [
            "Saving cat.jpg to cat.jpg\n"
          ],
          "name": "stdout"
        }
      ]
    },
    {
      "cell_type": "code",
      "metadata": {
        "id": "jYLtvjfV_V6o",
        "colab_type": "code",
        "colab": {}
      },
      "source": [
        "my_image=plt.imread('cat.jpg')"
      ],
      "execution_count": 62,
      "outputs": []
    },
    {
      "cell_type": "code",
      "metadata": {
        "id": "5kMT1z8I_gEf",
        "colab_type": "code",
        "colab": {}
      },
      "source": [
        "from skimage.transform import resize\n",
        "my_image_resized = resize(my_image, (32,32,3))"
      ],
      "execution_count": 63,
      "outputs": []
    },
    {
      "cell_type": "code",
      "metadata": {
        "id": "NcL_riFr_i5g",
        "colab_type": "code",
        "colab": {
          "base_uri": "https://localhost:8080/",
          "height": 266
        },
        "outputId": "da841ceb-11d4-489c-a4d0-5d011e7f3476"
      },
      "source": [
        "img = plt.imshow(my_image_resized)"
      ],
      "execution_count": 64,
      "outputs": [
        {
          "output_type": "display_data",
          "data": {
            "image/png": "[encoded data removed]",
            "text/plain": [
              "<Figure size 432x288 with 1 Axes>"
            ]
          },
          "metadata": {
            "tags": [],
            "needs_background": "light"
          }
        }
      ]
    },
    {
      "cell_type": "code",
      "metadata": {
        "id": "k5q7VKL_9Kek",
        "colab_type": "code",
        "colab": {}
      },
      "source": [
        "import numpy as np\n"
      ],
      "execution_count": 65,
      "outputs": []
    },
    {
      "cell_type": "code",
      "metadata": {
        "id": "7PvVKWQY9e29",
        "colab_type": "code",
        "colab": {}
      },
      "source": [
        "probabilities = model.predict(np.array( [my_image_resized,] ))"
      ],
      "execution_count": 66,
      "outputs": []
    },
    {
      "cell_type": "code",
      "metadata": {
        "id": "MChIjSQI9izV",
        "colab_type": "code",
        "colab": {
          "base_uri": "https://localhost:8080/",
          "height": 69
        },
        "outputId": "a266f494-3504-46b5-b335-44f990bd1845"
      },
      "source": [
        "probabilities"
      ],
      "execution_count": 67,
      "outputs": [
        {
          "output_type": "execute_result",
          "data": {
            "text/plain": [
              "array([[2.42993308e-04, 8.98523285e-06, 1.46049205e-02, 5.51856697e-01,\n",
              "        3.31195304e-04, 3.78916502e-01, 4.98706736e-02, 4.40225675e-04,\n",
              "        3.70039977e-03, 2.74273752e-05]], dtype=float32)"
            ]
          },
          "metadata": {
            "tags": []
          },
          "execution_count": 67
        }
      ]
    },
    {
      "cell_type": "code",
      "metadata": {
        "id": "H9PO5RFW9lXu",
        "colab_type": "code",
        "colab": {
          "base_uri": "https://localhost:8080/",
          "height": 191
        },
        "outputId": "ce68373b-c156-4725-acde-5d24478077d4"
      },
      "source": [
        "number_to_class = ['airplane', 'automobile', 'bird', 'cat', 'deer', 'dog', 'frog', 'horse', 'ship', 'truck']\n",
        "index = np.argsort(probabilities[0,:])\n",
        "print(\"Most likely class:\", number_to_class[index[9]], \"-- Probability:\", probabilities[0,index[9]])\n",
        "print(\"Second most likely class:\", number_to_class[index[8]], \"-- Probability:\", probabilities[0,index[8]])\n",
        "print(\"Third most likely class:\", number_to_class[index[7]], \"-- Probability:\", probabilities[0,index[7]])\n",
        "print(\"Fourth most likely class:\", number_to_class[index[6]], \"-- Probability:\", probabilities[0,index[6]])\n",
        "print(\"Fifth most likely class:\", number_to_class[index[5]], \"-- Probability:\", probabilities[0,index[5]])\n",
        "print(\"Sixth most likely class:\", number_to_class[index[4]], \"-- Probability:\", probabilities[0,index[4]])\n",
        "print(\"Seventh most likely class:\", number_to_class[index[3]], \"-- Probability:\", probabilities[0,index[3]])\n",
        "print(\"Eigth most likely class:\", number_to_class[index[2]], \"-- Probability:\", probabilities[0,index[2]])\n",
        "print(\"Ninth most likely class:\", number_to_class[index[1]], \"-- Probability:\", probabilities[0,index[1]])\n",
        "print(\"Tenth most likely class:\", number_to_class[index[0]], \"-- Probability:\", probabilities[0,index[0]])\n"
      ],
      "execution_count": 68,
      "outputs": [
        {
          "output_type": "stream",
          "text": [
            "Most likely class: cat -- Probability: 0.5518567\n",
            "Second most likely class: dog -- Probability: 0.3789165\n",
            "Third most likely class: frog -- Probability: 0.049870674\n",
            "Fourth most likely class: bird -- Probability: 0.0146049205\n",
            "Fifth most likely class: ship -- Probability: 0.0037003998\n",
            "Sixth most likely class: horse -- Probability: 0.00044022567\n",
            "Seventh most likely class: deer -- Probability: 0.0003311953\n",
            "Eigth most likely class: airplane -- Probability: 0.00024299331\n",
            "Ninth most likely class: truck -- Probability: 2.7427375e-05\n",
            "Tenth most likely class: automobile -- Probability: 8.985233e-06\n"
          ],
          "name": "stdout"
        }
      ]
    },
    {
      "cell_type": "code",
      "metadata": {
        "id": "ilFLK9BQ_uLO",
        "colab_type": "code",
        "colab": {}
      },
      "source": [
        ""
      ],
      "execution_count": null,
      "outputs": []
    }
  ]
}